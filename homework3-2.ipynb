{
  "nbformat": 4,
  "nbformat_minor": 0,
  "metadata": {
    "colab": {
      "name": "HW3-2Shopping-v3.ipynb",
      "provenance": [],
      "collapsed_sections": [],
      "toc_visible": true
    },
    "kernelspec": {
      "name": "python3",
      "display_name": "Python 3"
    },
    "accelerator": "GPU",
    "widgets": {
      "application/vnd.jupyter.widget-state+json": {
        "ac31bbe1bdab48899c352ea5b4425a89": {
          "model_module": "@jupyter-widgets/controls",
          "model_name": "HBoxModel",
          "state": {
            "_view_name": "HBoxView",
            "_dom_classes": [],
            "_model_name": "HBoxModel",
            "_view_module": "@jupyter-widgets/controls",
            "_model_module_version": "1.5.0",
            "_view_count": null,
            "_view_module_version": "1.5.0",
            "box_style": "",
            "layout": "IPY_MODEL_3fcd44eb482b4b77a4a3bdc247352fe4",
            "_model_module": "@jupyter-widgets/controls",
            "children": [
              "IPY_MODEL_422af616dbae482289b65f4bc5923706",
              "IPY_MODEL_3d82a13a5d604067807dc47e5b9af89c"
            ]
          }
        },
        "3fcd44eb482b4b77a4a3bdc247352fe4": {
          "model_module": "@jupyter-widgets/base",
          "model_name": "LayoutModel",
          "state": {
            "_view_name": "LayoutView",
            "grid_template_rows": null,
            "right": null,
            "justify_content": null,
            "_view_module": "@jupyter-widgets/base",
            "overflow": null,
            "_model_module_version": "1.2.0",
            "_view_count": null,
            "flex_flow": null,
            "width": null,
            "min_width": null,
            "border": null,
            "align_items": null,
            "bottom": null,
            "_model_module": "@jupyter-widgets/base",
            "top": null,
            "grid_column": null,
            "overflow_y": null,
            "overflow_x": null,
            "grid_auto_flow": null,
            "grid_area": null,
            "grid_template_columns": null,
            "flex": null,
            "_model_name": "LayoutModel",
            "justify_items": null,
            "grid_row": null,
            "max_height": null,
            "align_content": null,
            "visibility": null,
            "align_self": null,
            "height": null,
            "min_height": null,
            "padding": null,
            "grid_auto_rows": null,
            "grid_gap": null,
            "max_width": null,
            "order": null,
            "_view_module_version": "1.2.0",
            "grid_template_areas": null,
            "object_position": null,
            "object_fit": null,
            "grid_auto_columns": null,
            "margin": null,
            "display": null,
            "left": null
          }
        },
        "422af616dbae482289b65f4bc5923706": {
          "model_module": "@jupyter-widgets/controls",
          "model_name": "FloatProgressModel",
          "state": {
            "_view_name": "ProgressView",
            "style": "IPY_MODEL_76a420c6c73945a2bb0f97d7206d52c8",
            "_dom_classes": [],
            "description": "Epochs: 100%",
            "_model_name": "FloatProgressModel",
            "bar_style": "success",
            "max": 500,
            "_view_module": "@jupyter-widgets/controls",
            "_model_module_version": "1.5.0",
            "value": 500,
            "_view_count": null,
            "_view_module_version": "1.5.0",
            "orientation": "horizontal",
            "min": 0,
            "description_tooltip": null,
            "_model_module": "@jupyter-widgets/controls",
            "layout": "IPY_MODEL_21ee19f5f5264a80be8856eea6c2d2dc"
          }
        },
        "3d82a13a5d604067807dc47e5b9af89c": {
          "model_module": "@jupyter-widgets/controls",
          "model_name": "HTMLModel",
          "state": {
            "_view_name": "HTMLView",
            "style": "IPY_MODEL_c50dfe2bd3bb4759a7afb7928ee44348",
            "_dom_classes": [],
            "description": "",
            "_model_name": "HTMLModel",
            "placeholder": "​",
            "_view_module": "@jupyter-widgets/controls",
            "_model_module_version": "1.5.0",
            "value": " 500/500 [01:27&lt;00:00,  5.73it/s]",
            "_view_count": null,
            "_view_module_version": "1.5.0",
            "description_tooltip": null,
            "_model_module": "@jupyter-widgets/controls",
            "layout": "IPY_MODEL_76af05488c714cb890e007d239ba7494"
          }
        },
        "76a420c6c73945a2bb0f97d7206d52c8": {
          "model_module": "@jupyter-widgets/controls",
          "model_name": "ProgressStyleModel",
          "state": {
            "_view_name": "StyleView",
            "_model_name": "ProgressStyleModel",
            "description_width": "initial",
            "_view_module": "@jupyter-widgets/base",
            "_model_module_version": "1.5.0",
            "_view_count": null,
            "_view_module_version": "1.2.0",
            "bar_color": null,
            "_model_module": "@jupyter-widgets/controls"
          }
        },
        "21ee19f5f5264a80be8856eea6c2d2dc": {
          "model_module": "@jupyter-widgets/base",
          "model_name": "LayoutModel",
          "state": {
            "_view_name": "LayoutView",
            "grid_template_rows": null,
            "right": null,
            "justify_content": null,
            "_view_module": "@jupyter-widgets/base",
            "overflow": null,
            "_model_module_version": "1.2.0",
            "_view_count": null,
            "flex_flow": null,
            "width": null,
            "min_width": null,
            "border": null,
            "align_items": null,
            "bottom": null,
            "_model_module": "@jupyter-widgets/base",
            "top": null,
            "grid_column": null,
            "overflow_y": null,
            "overflow_x": null,
            "grid_auto_flow": null,
            "grid_area": null,
            "grid_template_columns": null,
            "flex": null,
            "_model_name": "LayoutModel",
            "justify_items": null,
            "grid_row": null,
            "max_height": null,
            "align_content": null,
            "visibility": null,
            "align_self": null,
            "height": null,
            "min_height": null,
            "padding": null,
            "grid_auto_rows": null,
            "grid_gap": null,
            "max_width": null,
            "order": null,
            "_view_module_version": "1.2.0",
            "grid_template_areas": null,
            "object_position": null,
            "object_fit": null,
            "grid_auto_columns": null,
            "margin": null,
            "display": null,
            "left": null
          }
        },
        "c50dfe2bd3bb4759a7afb7928ee44348": {
          "model_module": "@jupyter-widgets/controls",
          "model_name": "DescriptionStyleModel",
          "state": {
            "_view_name": "StyleView",
            "_model_name": "DescriptionStyleModel",
            "description_width": "",
            "_view_module": "@jupyter-widgets/base",
            "_model_module_version": "1.5.0",
            "_view_count": null,
            "_view_module_version": "1.2.0",
            "_model_module": "@jupyter-widgets/controls"
          }
        },
        "76af05488c714cb890e007d239ba7494": {
          "model_module": "@jupyter-widgets/base",
          "model_name": "LayoutModel",
          "state": {
            "_view_name": "LayoutView",
            "grid_template_rows": null,
            "right": null,
            "justify_content": null,
            "_view_module": "@jupyter-widgets/base",
            "overflow": null,
            "_model_module_version": "1.2.0",
            "_view_count": null,
            "flex_flow": null,
            "width": null,
            "min_width": null,
            "border": null,
            "align_items": null,
            "bottom": null,
            "_model_module": "@jupyter-widgets/base",
            "top": null,
            "grid_column": null,
            "overflow_y": null,
            "overflow_x": null,
            "grid_auto_flow": null,
            "grid_area": null,
            "grid_template_columns": null,
            "flex": null,
            "_model_name": "LayoutModel",
            "justify_items": null,
            "grid_row": null,
            "max_height": null,
            "align_content": null,
            "visibility": null,
            "align_self": null,
            "height": null,
            "min_height": null,
            "padding": null,
            "grid_auto_rows": null,
            "grid_gap": null,
            "max_width": null,
            "order": null,
            "_view_module_version": "1.2.0",
            "grid_template_areas": null,
            "object_position": null,
            "object_fit": null,
            "grid_auto_columns": null,
            "margin": null,
            "display": null,
            "left": null
          }
        }
      }
    }
  },
  "cells": [
    {
      "cell_type": "code",
      "metadata": {
        "id": "fmST53XKiATt",
        "colab_type": "code",
        "colab": {}
      },
      "source": [
        "import pandas as pd\n",
        "import numpy as np\n",
        "import matplotlib.pyplot as plt\n",
        "import torch\n",
        "import torch.nn as nn\n",
        "import torchvision.transforms as transforms\n",
        "import torch.nn.functional as F\n",
        "from torch.utils.data import DataLoader, Dataset\n",
        "import torch.optim as optim\n",
        "from tqdm.autonotebook import tqdm\n",
        "from torch.optim.lr_scheduler import StepLR\n",
        "from sklearn.preprocessing import MinMaxScaler\n",
        "from sklearn.utils import shuffle"
      ],
      "execution_count": 0,
      "outputs": []
    },
    {
      "cell_type": "markdown",
      "metadata": {
        "id": "SW_J8jO2DJT5",
        "colab_type": "text"
      },
      "source": [
        "# Read in Data"
      ]
    },
    {
      "cell_type": "code",
      "metadata": {
        "id": "i_fngoJijZKS",
        "colab_type": "code",
        "outputId": "46f7b722-e0d4-45c9-d73e-43cafb1fe52e",
        "colab": {
          "base_uri": "https://localhost:8080/",
          "height": 34
        }
      },
      "source": [
        "train = pd.read_csv('/content/drive/My Drive/ML/FDA/HW3/data/Shopping/online_shoppers_intention.csv')\n",
        "\n",
        "device = 'cpu'\n",
        "if torch.cuda.is_available():\n",
        "  device = 'cuda:0'\n",
        "print(device)"
      ],
      "execution_count": 50,
      "outputs": [
        {
          "output_type": "stream",
          "text": [
            "cuda:0\n"
          ],
          "name": "stdout"
        }
      ]
    },
    {
      "cell_type": "code",
      "metadata": {
        "id": "2KJIxVqCmzNJ",
        "colab_type": "code",
        "colab": {}
      },
      "source": [
        "train_d = train.drop(['Informational',\n",
        "       'Informational_Duration','TrafficType','OperatingSystems', 'Browser', 'Region'],axis=1)\n",
        "train_d['Weekend'] = train_d['Weekend'].apply(lambda x : 1 if x== True else 0)\n",
        "train_d['Revenue'] = train_d['Revenue'].apply(lambda x : 1 if x== True else 0)"
      ],
      "execution_count": 0,
      "outputs": []
    },
    {
      "cell_type": "markdown",
      "metadata": {
        "id": "mir3xGJsdFHm",
        "colab_type": "text"
      },
      "source": [
        "# Visualization"
      ]
    },
    {
      "cell_type": "code",
      "metadata": {
        "id": "-3i5D0bIOoH4",
        "colab_type": "code",
        "colab": {
          "base_uri": "https://localhost:8080/",
          "height": 281
        },
        "outputId": "44b70e60-775c-4b0e-8e12-c229a32904dd"
      },
      "source": [
        "tmp = train['Revenue'].value_counts()\n",
        "plt.bar(tmp.index,tmp.values)\n",
        "plt.title('Not purchased vs Purchase')\n",
        "plt.show()"
      ],
      "execution_count": 52,
      "outputs": [
        {
          "output_type": "display_data",
          "data": {
            "image/png": "[encoded data removed]",
            "text/plain": [
              "<Figure size 432x288 with 1 Axes>"
            ]
          },
          "metadata": {
            "tags": [],
            "needs_background": "light"
          }
        }
      ]
    },
    {
      "cell_type": "code",
      "metadata": {
        "id": "CqxR9YX9aGDp",
        "colab_type": "code",
        "outputId": "82f42694-be65-45d2-d00b-f078f1ecb889",
        "colab": {
          "base_uri": "https://localhost:8080/",
          "height": 281
        }
      },
      "source": [
        "weekend = train_d.groupby('Weekend').describe()\n",
        "plt.bar(weekend.index,weekend['Revenue']['mean'])\n",
        "plt.title('Weekend vs Purchase')\n",
        "plt.show()"
      ],
      "execution_count": 53,
      "outputs": [
        {
          "output_type": "display_data",
          "data": {
            "image/png": "[encoded data removed]",
            "text/plain": [
              "<Figure size 432x288 with 1 Axes>"
            ]
          },
          "metadata": {
            "tags": [],
            "needs_background": "light"
          }
        }
      ]
    },
    {
      "cell_type": "code",
      "metadata": {
        "id": "sgHut-bWQ4Ff",
        "colab_type": "code",
        "outputId": "251cd05b-aae5-4201-efe8-a272fe03c919",
        "colab": {
          "base_uri": "https://localhost:8080/",
          "height": 282
        }
      },
      "source": [
        "visitor = train_d.groupby('VisitorType').describe()\n",
        "plt.bar(visitor.index,visitor['Revenue']['mean'])\n",
        "plt.title('visitorTypes vs Purchase')\n",
        "plt.show()"
      ],
      "execution_count": 54,
      "outputs": [
        {
          "output_type": "display_data",
          "data": {
            "image/png": "[encoded data removed]",
            "text/plain": [
              "<Figure size 432x288 with 1 Axes>"
            ]
          },
          "metadata": {
            "tags": [],
            "needs_background": "light"
          }
        }
      ]
    },
    {
      "cell_type": "code",
      "metadata": {
        "id": "Vr-H_MJFS42M",
        "colab_type": "code",
        "outputId": "7dd9261f-ce34-4c84-d53d-b9c5118f3f08",
        "colab": {
          "base_uri": "https://localhost:8080/",
          "height": 281
        }
      },
      "source": [
        "month = train_d.groupby('Month').describe()\n",
        "plt.bar(month.index,month['Revenue']['mean'])\n",
        "plt.title('Month vs Purchase')\n",
        "plt.show()"
      ],
      "execution_count": 8,
      "outputs": [
        {
          "output_type": "display_data",
          "data": {
            "image/png": "[encoded data removed]",
            "text/plain": [
              "<Figure size 432x288 with 1 Axes>"
            ]
          },
          "metadata": {
            "tags": [],
            "needs_background": "light"
          }
        }
      ]
    },
    {
      "cell_type": "markdown",
      "metadata": {
        "id": "8I2_wO0bdIJK",
        "colab_type": "text"
      },
      "source": [
        "# Preprocess"
      ]
    },
    {
      "cell_type": "code",
      "metadata": {
        "id": "Vz5qiHkLdouV",
        "colab_type": "code",
        "colab": {}
      },
      "source": [
        "# cathegorical encoding\n",
        "all_dum = pd.get_dummies(train_d, columns=['VisitorType', 'Month','Revenue'])\n",
        "\n",
        "#split data test / train\n",
        "split_num = int(np.round(train_d.shape[0]*0.85))\n",
        "all_dum = shuffle(all_dum)\n",
        "train_dum = all_dum[:split_num]\n",
        "test_dum = all_dum[split_num:]\n"
      ],
      "execution_count": 0,
      "outputs": []
    },
    {
      "cell_type": "code",
      "metadata": {
        "id": "hcFN9xXx2ml1",
        "colab_type": "code",
        "colab": {
          "base_uri": "https://localhost:8080/",
          "height": 34
        },
        "outputId": "f61a443a-d453-4951-b3cd-e3d1daa659e9"
      },
      "source": [
        "# Oversampling test data\n",
        "new = (train_dum[train_dum['Revenue_1']==1])\n",
        "train_aug = train_dum.append([new]*5,ignore_index=True)\n",
        "train_aug.shape"
      ],
      "execution_count": 56,
      "outputs": [
        {
          "output_type": "execute_result",
          "data": {
            "text/plain": [
              "(18745, 24)"
            ]
          },
          "metadata": {
            "tags": []
          },
          "execution_count": 56
        }
      ]
    },
    {
      "cell_type": "code",
      "metadata": {
        "id": "4etNr_M3Hj8J",
        "colab_type": "code",
        "colab": {}
      },
      "source": [
        "# getting rid of outliers\n",
        "train_aug = train_aug[train_aug['Administrative_Duration']<250]\n",
        "train_aug = train_aug[train_aug['ProductRelated_Duration']<3600]\n",
        "train_aug = train_aug[train_aug['ProductRelated']<100]\n",
        "train_aug = train_aug[train_aug['Administrative']<10]"
      ],
      "execution_count": 0,
      "outputs": []
    },
    {
      "cell_type": "code",
      "metadata": {
        "id": "sRjzhnHH6O_e",
        "colab_type": "code",
        "colab": {
          "base_uri": "https://localhost:8080/",
          "height": 547
        },
        "outputId": "d3a2ecf8-f486-4c11-e996-a2988e79dd92"
      },
      "source": [
        "# normalize\n",
        "def scaling(d1,d2,features):\n",
        "  x1 = d1\n",
        "  x2 = d2\n",
        "  for fea in features:\n",
        "    scaler = MinMaxScaler(feature_range=(0,1))\n",
        "    x1[fea] = scaler.fit_transform(x1[fea].values.reshape(-1,1))\n",
        "    x2[fea] = scaler.transform(x2[fea].values.reshape(-1,1))\n",
        "  return [x1,x2]\n",
        "features = ['Administrative','Administrative_Duration','ProductRelated','ProductRelated_Duration','PageValues']\n",
        "train_aug , test_dum = scaling(train_aug,test_dum,features)"
      ],
      "execution_count": 15,
      "outputs": [
        {
          "output_type": "stream",
          "text": [
            "/usr/local/lib/python3.6/dist-packages/ipykernel_launcher.py:8: SettingWithCopyWarning: \n",
            "A value is trying to be set on a copy of a slice from a DataFrame.\n",
            "Try using .loc[row_indexer,col_indexer] = value instead\n",
            "\n",
            "See the caveats in the documentation: https://pandas.pydata.org/pandas-docs/stable/user_guide/indexing.html#returning-a-view-versus-a-copy\n",
            "  \n",
            "/usr/local/lib/python3.6/dist-packages/ipykernel_launcher.py:8: SettingWithCopyWarning: \n",
            "A value is trying to be set on a copy of a slice from a DataFrame.\n",
            "Try using .loc[row_indexer,col_indexer] = value instead\n",
            "\n",
            "See the caveats in the documentation: https://pandas.pydata.org/pandas-docs/stable/user_guide/indexing.html#returning-a-view-versus-a-copy\n",
            "  \n",
            "/usr/local/lib/python3.6/dist-packages/ipykernel_launcher.py:8: SettingWithCopyWarning: \n",
            "A value is trying to be set on a copy of a slice from a DataFrame.\n",
            "Try using .loc[row_indexer,col_indexer] = value instead\n",
            "\n",
            "See the caveats in the documentation: https://pandas.pydata.org/pandas-docs/stable/user_guide/indexing.html#returning-a-view-versus-a-copy\n",
            "  \n",
            "/usr/local/lib/python3.6/dist-packages/ipykernel_launcher.py:8: SettingWithCopyWarning: \n",
            "A value is trying to be set on a copy of a slice from a DataFrame.\n",
            "Try using .loc[row_indexer,col_indexer] = value instead\n",
            "\n",
            "See the caveats in the documentation: https://pandas.pydata.org/pandas-docs/stable/user_guide/indexing.html#returning-a-view-versus-a-copy\n",
            "  \n",
            "/usr/local/lib/python3.6/dist-packages/ipykernel_launcher.py:8: SettingWithCopyWarning: \n",
            "A value is trying to be set on a copy of a slice from a DataFrame.\n",
            "Try using .loc[row_indexer,col_indexer] = value instead\n",
            "\n",
            "See the caveats in the documentation: https://pandas.pydata.org/pandas-docs/stable/user_guide/indexing.html#returning-a-view-versus-a-copy\n",
            "  \n"
          ],
          "name": "stderr"
        }
      ]
    },
    {
      "cell_type": "code",
      "metadata": {
        "id": "Ekn0HxERij97",
        "colab_type": "code",
        "colab": {}
      },
      "source": [
        "train_aug = shuffle(train_aug)\n",
        "def load_data(df):\n",
        "  y = df[['Revenue_0','Revenue_1']].values\n",
        "  x = df.drop(['Revenue_0','Revenue_1'],axis = 1).values\n",
        "  # split test / train set\n",
        "  i = int(np.round(x.shape[0]*0.9))\n",
        "  x_train = x[:i,:]\n",
        "  y_train = y[:i]\n",
        "  x_test = x[i:,:]\n",
        "  y_test = y[i:]\n",
        "  return [np.array(x_train),np.array(y_train),np.array(x_test),np.array(y_test)]\n",
        "\n",
        "x_train, y_train, x_test, y_test = load_data(train_aug)\n",
        "\n",
        "x_train = torch.from_numpy(x_train).type(torch.Tensor)\n",
        "y_train = torch.from_numpy(y_train).type(torch.Tensor)\n",
        "\n",
        "x_test = torch.from_numpy(x_test).type(torch.Tensor)\n",
        "y_test = torch.from_numpy(y_test).type(torch.Tensor)\n",
        "\n",
        "train_ld = torch.utils.data.TensorDataset(x_train,y_train)\n",
        "test_ld = torch.utils.data.TensorDataset(x_test, y_test)\n",
        "\n"
      ],
      "execution_count": 0,
      "outputs": []
    },
    {
      "cell_type": "code",
      "metadata": {
        "id": "cN5usCpMfWTn",
        "colab_type": "code",
        "outputId": "eaf83681-4872-4ecd-df88-5d65360db7e2",
        "colab": {
          "base_uri": "https://localhost:8080/",
          "height": 85
        }
      },
      "source": [
        "x_train.shape , y_train.shape , x_test.shape , y_test.shape"
      ],
      "execution_count": 20,
      "outputs": [
        {
          "output_type": "execute_result",
          "data": {
            "text/plain": [
              "(torch.Size([13276, 22]),\n",
              " torch.Size([13276, 2]),\n",
              " torch.Size([1475, 22]),\n",
              " torch.Size([1475, 2]))"
            ]
          },
          "metadata": {
            "tags": []
          },
          "execution_count": 20
        }
      ]
    },
    {
      "cell_type": "markdown",
      "metadata": {
        "id": "6Zc-kp-SiJ6F",
        "colab_type": "text"
      },
      "source": [
        "# Training"
      ]
    },
    {
      "cell_type": "code",
      "metadata": {
        "id": "C-MJ9Vv1nMOm",
        "colab_type": "code",
        "colab": {}
      },
      "source": [
        "class MLP(nn.Module):\n",
        "  def __init__(self,input_dim):\n",
        "    super(MLP,self).__init__()\n",
        "    self.input_dim = input_dim\n",
        "    self.fc1 = nn.Linear(input_dim,64,bias=True)\n",
        "    self.fc2 = nn.Linear(64,128,bias=True)\n",
        "    # self.fc3 = nn.Linear(128,128,bias=True)\n",
        "    self.fc4 = nn.Linear(128,256,bias=True)\n",
        "    self.fc5 = nn.Linear(256,128,bias=True)\n",
        "    self.fc6 = nn.Linear(128,128,bias=True)\n",
        "    self.out = nn.Linear(128,2,bias=True)\n",
        "\n",
        "  def forward(self,x):\n",
        "    x = F.relu(self.fc1(x))\n",
        "    x = F.dropout(x, p=0.5, training=self.training)\n",
        "    x = F.relu(self.fc2(x))\n",
        "    x = F.dropout(x, p=0.5, training=self.training)\n",
        "    # x = F.relu(self.fc3(x))\n",
        "    # x = F.dropout(x, p=0.5, training=self.training)\n",
        "    x = F.relu(self.fc4(x))\n",
        "    x = F.dropout(x, p=0.5, training=self.training)\n",
        "    x = F.relu(self.fc5(x))\n",
        "    x = F.dropout(x, p=0.8, training=self.training)\n",
        "    x = F.relu(self.fc6(x))\n",
        "    out = F.softmax(self.out(x),dim =1)\n",
        "    return out"
      ],
      "execution_count": 0,
      "outputs": []
    },
    {
      "cell_type": "code",
      "metadata": {
        "id": "h50uloYInM1Y",
        "colab_type": "code",
        "outputId": "0904805e-5a5c-4ac2-caff-819f8647b320",
        "colab": {
          "base_uri": "https://localhost:8080/",
          "height": 207
        }
      },
      "source": [
        "batch_size = 512\n",
        "train_loader = DataLoader(train_ld, batch_size=batch_size, shuffle=True)\n",
        "test_loader = DataLoader(test_ld, batch_size=batch_size, shuffle=False)\n",
        "\n",
        "model = MLP(22).to(device)\n",
        "optimizer = optim.Adam(model.parameters(), lr=0.0005)\n",
        "criterion = nn.BCEWithLogitsLoss()\n",
        "# scheduler = StepLR(optimizer, step_size=50, gamma=0.5) #learning rate decrease while training\n",
        "\n",
        "def init_weights(m):#weight initialization\n",
        "    if type(m) == nn.Linear:\n",
        "        torch.nn.init.xavier_uniform(m.weight)\n",
        "        m.bias.data.fill_(0.01)\n",
        "model.apply(init_weights)"
      ],
      "execution_count": 37,
      "outputs": [
        {
          "output_type": "stream",
          "text": [
            "/usr/local/lib/python3.6/dist-packages/ipykernel_launcher.py:13: UserWarning: nn.init.xavier_uniform is now deprecated in favor of nn.init.xavier_uniform_.\n",
            "  del sys.path[0]\n"
          ],
          "name": "stderr"
        },
        {
          "output_type": "execute_result",
          "data": {
            "text/plain": [
              "MLP(\n",
              "  (fc1): Linear(in_features=22, out_features=64, bias=True)\n",
              "  (fc2): Linear(in_features=64, out_features=128, bias=True)\n",
              "  (fc4): Linear(in_features=128, out_features=256, bias=True)\n",
              "  (fc5): Linear(in_features=256, out_features=128, bias=True)\n",
              "  (fc6): Linear(in_features=128, out_features=128, bias=True)\n",
              "  (out): Linear(in_features=128, out_features=2, bias=True)\n",
              ")"
            ]
          },
          "metadata": {
            "tags": []
          },
          "execution_count": 37
        }
      ]
    },
    {
      "cell_type": "code",
      "metadata": {
        "id": "38wT8XuS0fW5",
        "colab_type": "code",
        "outputId": "93086cea-c06e-412f-d5e1-95c182890f13",
        "colab": {
          "base_uri": "https://localhost:8080/",
          "height": 1000,
          "referenced_widgets": [
            "ac31bbe1bdab48899c352ea5b4425a89",
            "3fcd44eb482b4b77a4a3bdc247352fe4",
            "422af616dbae482289b65f4bc5923706",
            "3d82a13a5d604067807dc47e5b9af89c",
            "76a420c6c73945a2bb0f97d7206d52c8",
            "21ee19f5f5264a80be8856eea6c2d2dc",
            "c50dfe2bd3bb4759a7afb7928ee44348",
            "76af05488c714cb890e007d239ba7494"
          ]
        }
      },
      "source": [
        "epochs = 500\n",
        "hist = []\n",
        "for epoch in tqdm(range(epochs), desc=\"Epochs\"):\n",
        "  running_loss = []\n",
        "  for data, label in train_loader:\n",
        "    data = data.to(device)\n",
        "    # label = label.to(device)\n",
        "    label = torch.tensor(label, dtype=torch.long, device=device)\n",
        "    optimizer.zero_grad()\n",
        "\n",
        "    output = model.forward(data)\n",
        "\n",
        "    loss = criterion(output,label.type_as(output))\n",
        "    # print(torch.max(label, 1)[1])\n",
        "    loss.backward()\n",
        "    optimizer.step()\n",
        "    # scheduler.step()\n",
        "    # print(loss)\n",
        "    running_loss.append(loss.item())\n",
        "  print(\"Epoch: {}/{} - Loss: {:.4f}\".format(epoch+1, epochs, np.mean(running_loss)))\n",
        "  hist.append(np.mean(running_loss))\n"
      ],
      "execution_count": 38,
      "outputs": [
        {
          "output_type": "display_data",
          "data": {
            "application/vnd.jupyter.widget-view+json": {
              "model_id": "ac31bbe1bdab48899c352ea5b4425a89",
              "version_minor": 0,
              "version_major": 2
            },
            "text/plain": [
              "HBox(children=(FloatProgress(value=0.0, description='Epochs', max=500.0, style=ProgressStyle(description_width…"
            ]
          },
          "metadata": {
            "tags": []
          }
        },
        {
          "output_type": "stream",
          "text": [
            "/usr/local/lib/python3.6/dist-packages/ipykernel_launcher.py:8: UserWarning: To copy construct from a tensor, it is recommended to use sourceTensor.clone().detach() or sourceTensor.clone().detach().requires_grad_(True), rather than torch.tensor(sourceTensor).\n",
            "  \n"
          ],
          "name": "stderr"
        },
        {
          "output_type": "stream",
          "text": [
            "Epoch: 1/500 - Loss: 0.7247\n",
            "Epoch: 2/500 - Loss: 0.7210\n",
            "Epoch: 3/500 - Loss: 0.7148\n",
            "Epoch: 4/500 - Loss: 0.7008\n",
            "Epoch: 5/500 - Loss: 0.6848\n",
            "Epoch: 6/500 - Loss: 0.6772\n",
            "Epoch: 7/500 - Loss: 0.6730\n",
            "Epoch: 8/500 - Loss: 0.6678\n",
            "Epoch: 9/500 - Loss: 0.6662\n",
            "Epoch: 10/500 - Loss: 0.6633\n",
            "Epoch: 11/500 - Loss: 0.6615\n",
            "Epoch: 12/500 - Loss: 0.6596\n",
            "Epoch: 13/500 - Loss: 0.6581\n",
            "Epoch: 14/500 - Loss: 0.6561\n",
            "Epoch: 15/500 - Loss: 0.6515\n",
            "Epoch: 16/500 - Loss: 0.6508\n",
            "Epoch: 17/500 - Loss: 0.6465\n",
            "Epoch: 18/500 - Loss: 0.6431\n",
            "Epoch: 19/500 - Loss: 0.6405\n",
            "Epoch: 20/500 - Loss: 0.6376\n",
            "Epoch: 21/500 - Loss: 0.6381\n",
            "Epoch: 22/500 - Loss: 0.6364\n",
            "Epoch: 23/500 - Loss: 0.6306\n",
            "Epoch: 24/500 - Loss: 0.6318\n",
            "Epoch: 25/500 - Loss: 0.6308\n",
            "Epoch: 26/500 - Loss: 0.6265\n",
            "Epoch: 27/500 - Loss: 0.6249\n",
            "Epoch: 28/500 - Loss: 0.6226\n",
            "Epoch: 29/500 - Loss: 0.6220\n",
            "Epoch: 30/500 - Loss: 0.6191\n",
            "Epoch: 31/500 - Loss: 0.6161\n",
            "Epoch: 32/500 - Loss: 0.6154\n",
            "Epoch: 33/500 - Loss: 0.6146\n",
            "Epoch: 34/500 - Loss: 0.6116\n",
            "Epoch: 35/500 - Loss: 0.6098\n",
            "Epoch: 36/500 - Loss: 0.6110\n",
            "Epoch: 37/500 - Loss: 0.6069\n",
            "Epoch: 38/500 - Loss: 0.6053\n",
            "Epoch: 39/500 - Loss: 0.6042\n",
            "Epoch: 40/500 - Loss: 0.6046\n",
            "Epoch: 41/500 - Loss: 0.6020\n",
            "Epoch: 42/500 - Loss: 0.6022\n",
            "Epoch: 43/500 - Loss: 0.6019\n",
            "Epoch: 44/500 - Loss: 0.5993\n",
            "Epoch: 45/500 - Loss: 0.5980\n",
            "Epoch: 46/500 - Loss: 0.5961\n",
            "Epoch: 47/500 - Loss: 0.5969\n",
            "Epoch: 48/500 - Loss: 0.5946\n",
            "Epoch: 49/500 - Loss: 0.5933\n",
            "Epoch: 50/500 - Loss: 0.5933\n",
            "Epoch: 51/500 - Loss: 0.5928\n",
            "Epoch: 52/500 - Loss: 0.5931\n",
            "Epoch: 53/500 - Loss: 0.5911\n",
            "Epoch: 54/500 - Loss: 0.5904\n",
            "Epoch: 55/500 - Loss: 0.5904\n",
            "Epoch: 56/500 - Loss: 0.5878\n",
            "Epoch: 57/500 - Loss: 0.5865\n",
            "Epoch: 58/500 - Loss: 0.5909\n",
            "Epoch: 59/500 - Loss: 0.5864\n",
            "Epoch: 60/500 - Loss: 0.5875\n",
            "Epoch: 61/500 - Loss: 0.5865\n",
            "Epoch: 62/500 - Loss: 0.5865\n",
            "Epoch: 63/500 - Loss: 0.5858\n",
            "Epoch: 64/500 - Loss: 0.5869\n",
            "Epoch: 65/500 - Loss: 0.5851\n",
            "Epoch: 66/500 - Loss: 0.5831\n",
            "Epoch: 67/500 - Loss: 0.5841\n",
            "Epoch: 68/500 - Loss: 0.5835\n",
            "Epoch: 69/500 - Loss: 0.5835\n",
            "Epoch: 70/500 - Loss: 0.5813\n",
            "Epoch: 71/500 - Loss: 0.5823\n",
            "Epoch: 72/500 - Loss: 0.5837\n",
            "Epoch: 73/500 - Loss: 0.5816\n",
            "Epoch: 74/500 - Loss: 0.5824\n",
            "Epoch: 75/500 - Loss: 0.5815\n",
            "Epoch: 76/500 - Loss: 0.5813\n",
            "Epoch: 77/500 - Loss: 0.5804\n",
            "Epoch: 78/500 - Loss: 0.5802\n",
            "Epoch: 79/500 - Loss: 0.5780\n",
            "Epoch: 80/500 - Loss: 0.5795\n",
            "Epoch: 81/500 - Loss: 0.5796\n",
            "Epoch: 82/500 - Loss: 0.5769\n",
            "Epoch: 83/500 - Loss: 0.5782\n",
            "Epoch: 84/500 - Loss: 0.5775\n",
            "Epoch: 85/500 - Loss: 0.5776\n",
            "Epoch: 86/500 - Loss: 0.5789\n",
            "Epoch: 87/500 - Loss: 0.5797\n",
            "Epoch: 88/500 - Loss: 0.5796\n",
            "Epoch: 89/500 - Loss: 0.5797\n",
            "Epoch: 90/500 - Loss: 0.5772\n",
            "Epoch: 91/500 - Loss: 0.5772\n",
            "Epoch: 92/500 - Loss: 0.5768\n",
            "Epoch: 93/500 - Loss: 0.5760\n",
            "Epoch: 94/500 - Loss: 0.5766\n",
            "Epoch: 95/500 - Loss: 0.5754\n",
            "Epoch: 96/500 - Loss: 0.5763\n",
            "Epoch: 97/500 - Loss: 0.5751\n",
            "Epoch: 98/500 - Loss: 0.5754\n",
            "Epoch: 99/500 - Loss: 0.5758\n",
            "Epoch: 100/500 - Loss: 0.5776\n",
            "Epoch: 101/500 - Loss: 0.5766\n",
            "Epoch: 102/500 - Loss: 0.5751\n",
            "Epoch: 103/500 - Loss: 0.5735\n",
            "Epoch: 104/500 - Loss: 0.5750\n",
            "Epoch: 105/500 - Loss: 0.5758\n",
            "Epoch: 106/500 - Loss: 0.5745\n",
            "Epoch: 107/500 - Loss: 0.5733\n",
            "Epoch: 108/500 - Loss: 0.5734\n",
            "Epoch: 109/500 - Loss: 0.5749\n",
            "Epoch: 110/500 - Loss: 0.5728\n",
            "Epoch: 111/500 - Loss: 0.5733\n",
            "Epoch: 112/500 - Loss: 0.5734\n",
            "Epoch: 113/500 - Loss: 0.5730\n",
            "Epoch: 114/500 - Loss: 0.5739\n",
            "Epoch: 115/500 - Loss: 0.5727\n",
            "Epoch: 116/500 - Loss: 0.5726\n",
            "Epoch: 117/500 - Loss: 0.5731\n",
            "Epoch: 118/500 - Loss: 0.5729\n",
            "Epoch: 119/500 - Loss: 0.5742\n",
            "Epoch: 120/500 - Loss: 0.5728\n",
            "Epoch: 121/500 - Loss: 0.5725\n",
            "Epoch: 122/500 - Loss: 0.5732\n",
            "Epoch: 123/500 - Loss: 0.5716\n",
            "Epoch: 124/500 - Loss: 0.5715\n",
            "Epoch: 125/500 - Loss: 0.5730\n",
            "Epoch: 126/500 - Loss: 0.5720\n",
            "Epoch: 127/500 - Loss: 0.5714\n",
            "Epoch: 128/500 - Loss: 0.5716\n",
            "Epoch: 129/500 - Loss: 0.5702\n",
            "Epoch: 130/500 - Loss: 0.5711\n",
            "Epoch: 131/500 - Loss: 0.5708\n",
            "Epoch: 132/500 - Loss: 0.5714\n",
            "Epoch: 133/500 - Loss: 0.5689\n",
            "Epoch: 134/500 - Loss: 0.5705\n",
            "Epoch: 135/500 - Loss: 0.5697\n",
            "Epoch: 136/500 - Loss: 0.5717\n",
            "Epoch: 137/500 - Loss: 0.5704\n",
            "Epoch: 138/500 - Loss: 0.5718\n",
            "Epoch: 139/500 - Loss: 0.5721\n",
            "Epoch: 140/500 - Loss: 0.5707\n",
            "Epoch: 141/500 - Loss: 0.5704\n",
            "Epoch: 142/500 - Loss: 0.5716\n",
            "Epoch: 143/500 - Loss: 0.5704\n",
            "Epoch: 144/500 - Loss: 0.5712\n",
            "Epoch: 145/500 - Loss: 0.5707\n",
            "Epoch: 146/500 - Loss: 0.5691\n",
            "Epoch: 147/500 - Loss: 0.5706\n",
            "Epoch: 148/500 - Loss: 0.5695\n",
            "Epoch: 149/500 - Loss: 0.5692\n",
            "Epoch: 150/500 - Loss: 0.5694\n",
            "Epoch: 151/500 - Loss: 0.5705\n",
            "Epoch: 152/500 - Loss: 0.5692\n",
            "Epoch: 153/500 - Loss: 0.5693\n",
            "Epoch: 154/500 - Loss: 0.5698\n",
            "Epoch: 155/500 - Loss: 0.5697\n",
            "Epoch: 156/500 - Loss: 0.5684\n",
            "Epoch: 157/500 - Loss: 0.5682\n",
            "Epoch: 158/500 - Loss: 0.5681\n",
            "Epoch: 159/500 - Loss: 0.5687\n",
            "Epoch: 160/500 - Loss: 0.5697\n",
            "Epoch: 161/500 - Loss: 0.5698\n",
            "Epoch: 162/500 - Loss: 0.5697\n",
            "Epoch: 163/500 - Loss: 0.5679\n",
            "Epoch: 164/500 - Loss: 0.5686\n",
            "Epoch: 165/500 - Loss: 0.5692\n",
            "Epoch: 166/500 - Loss: 0.5686\n",
            "Epoch: 167/500 - Loss: 0.5702\n",
            "Epoch: 168/500 - Loss: 0.5687\n",
            "Epoch: 169/500 - Loss: 0.5700\n",
            "Epoch: 170/500 - Loss: 0.5689\n",
            "Epoch: 171/500 - Loss: 0.5692\n",
            "Epoch: 172/500 - Loss: 0.5699\n",
            "Epoch: 173/500 - Loss: 0.5686\n",
            "Epoch: 174/500 - Loss: 0.5683\n",
            "Epoch: 175/500 - Loss: 0.5680\n",
            "Epoch: 176/500 - Loss: 0.5676\n",
            "Epoch: 177/500 - Loss: 0.5683\n",
            "Epoch: 178/500 - Loss: 0.5682\n",
            "Epoch: 179/500 - Loss: 0.5673\n",
            "Epoch: 180/500 - Loss: 0.5673\n",
            "Epoch: 181/500 - Loss: 0.5670\n",
            "Epoch: 182/500 - Loss: 0.5674\n",
            "Epoch: 183/500 - Loss: 0.5672\n",
            "Epoch: 184/500 - Loss: 0.5669\n",
            "Epoch: 185/500 - Loss: 0.5665\n",
            "Epoch: 186/500 - Loss: 0.5659\n",
            "Epoch: 187/500 - Loss: 0.5673\n",
            "Epoch: 188/500 - Loss: 0.5673\n",
            "Epoch: 189/500 - Loss: 0.5683\n",
            "Epoch: 190/500 - Loss: 0.5682\n",
            "Epoch: 191/500 - Loss: 0.5680\n",
            "Epoch: 192/500 - Loss: 0.5668\n",
            "Epoch: 193/500 - Loss: 0.5669\n",
            "Epoch: 194/500 - Loss: 0.5671\n",
            "Epoch: 195/500 - Loss: 0.5673\n",
            "Epoch: 196/500 - Loss: 0.5661\n",
            "Epoch: 197/500 - Loss: 0.5676\n",
            "Epoch: 198/500 - Loss: 0.5673\n",
            "Epoch: 199/500 - Loss: 0.5673\n",
            "Epoch: 200/500 - Loss: 0.5672\n",
            "Epoch: 201/500 - Loss: 0.5678\n",
            "Epoch: 202/500 - Loss: 0.5667\n",
            "Epoch: 203/500 - Loss: 0.5664\n",
            "Epoch: 204/500 - Loss: 0.5669\n",
            "Epoch: 205/500 - Loss: 0.5675\n",
            "Epoch: 206/500 - Loss: 0.5658\n",
            "Epoch: 207/500 - Loss: 0.5654\n",
            "Epoch: 208/500 - Loss: 0.5659\n",
            "Epoch: 209/500 - Loss: 0.5652\n",
            "Epoch: 210/500 - Loss: 0.5670\n",
            "Epoch: 211/500 - Loss: 0.5657\n",
            "Epoch: 212/500 - Loss: 0.5664\n",
            "Epoch: 213/500 - Loss: 0.5670\n",
            "Epoch: 214/500 - Loss: 0.5651\n",
            "Epoch: 215/500 - Loss: 0.5661\n",
            "Epoch: 216/500 - Loss: 0.5662\n",
            "Epoch: 217/500 - Loss: 0.5672\n",
            "Epoch: 218/500 - Loss: 0.5674\n",
            "Epoch: 219/500 - Loss: 0.5663\n",
            "Epoch: 220/500 - Loss: 0.5664\n",
            "Epoch: 221/500 - Loss: 0.5657\n",
            "Epoch: 222/500 - Loss: 0.5657\n",
            "Epoch: 223/500 - Loss: 0.5669\n",
            "Epoch: 224/500 - Loss: 0.5668\n",
            "Epoch: 225/500 - Loss: 0.5677\n",
            "Epoch: 226/500 - Loss: 0.5675\n",
            "Epoch: 227/500 - Loss: 0.5656\n",
            "Epoch: 228/500 - Loss: 0.5672\n",
            "Epoch: 229/500 - Loss: 0.5660\n",
            "Epoch: 230/500 - Loss: 0.5656\n",
            "Epoch: 231/500 - Loss: 0.5652\n",
            "Epoch: 232/500 - Loss: 0.5674\n",
            "Epoch: 233/500 - Loss: 0.5658\n",
            "Epoch: 234/500 - Loss: 0.5663\n",
            "Epoch: 235/500 - Loss: 0.5646\n",
            "Epoch: 236/500 - Loss: 0.5647\n",
            "Epoch: 237/500 - Loss: 0.5649\n",
            "Epoch: 238/500 - Loss: 0.5636\n",
            "Epoch: 239/500 - Loss: 0.5661\n",
            "Epoch: 240/500 - Loss: 0.5660\n",
            "Epoch: 241/500 - Loss: 0.5648\n",
            "Epoch: 242/500 - Loss: 0.5651\n",
            "Epoch: 243/500 - Loss: 0.5662\n",
            "Epoch: 244/500 - Loss: 0.5659\n",
            "Epoch: 245/500 - Loss: 0.5657\n",
            "Epoch: 246/500 - Loss: 0.5644\n",
            "Epoch: 247/500 - Loss: 0.5648\n",
            "Epoch: 248/500 - Loss: 0.5662\n",
            "Epoch: 249/500 - Loss: 0.5641\n",
            "Epoch: 250/500 - Loss: 0.5658\n",
            "Epoch: 251/500 - Loss: 0.5648\n",
            "Epoch: 252/500 - Loss: 0.5652\n",
            "Epoch: 253/500 - Loss: 0.5651\n",
            "Epoch: 254/500 - Loss: 0.5655\n",
            "Epoch: 255/500 - Loss: 0.5653\n",
            "Epoch: 256/500 - Loss: 0.5650\n",
            "Epoch: 257/500 - Loss: 0.5658\n",
            "Epoch: 258/500 - Loss: 0.5659\n",
            "Epoch: 259/500 - Loss: 0.5644\n",
            "Epoch: 260/500 - Loss: 0.5657\n",
            "Epoch: 261/500 - Loss: 0.5653\n",
            "Epoch: 262/500 - Loss: 0.5637\n",
            "Epoch: 263/500 - Loss: 0.5647\n",
            "Epoch: 264/500 - Loss: 0.5661\n",
            "Epoch: 265/500 - Loss: 0.5656\n",
            "Epoch: 266/500 - Loss: 0.5655\n",
            "Epoch: 267/500 - Loss: 0.5658\n",
            "Epoch: 268/500 - Loss: 0.5630\n",
            "Epoch: 269/500 - Loss: 0.5644\n",
            "Epoch: 270/500 - Loss: 0.5645\n",
            "Epoch: 271/500 - Loss: 0.5637\n",
            "Epoch: 272/500 - Loss: 0.5661\n",
            "Epoch: 273/500 - Loss: 0.5641\n",
            "Epoch: 274/500 - Loss: 0.5639\n",
            "Epoch: 275/500 - Loss: 0.5641\n",
            "Epoch: 276/500 - Loss: 0.5643\n",
            "Epoch: 277/500 - Loss: 0.5656\n",
            "Epoch: 278/500 - Loss: 0.5657\n",
            "Epoch: 279/500 - Loss: 0.5635\n",
            "Epoch: 280/500 - Loss: 0.5653\n",
            "Epoch: 281/500 - Loss: 0.5662\n",
            "Epoch: 282/500 - Loss: 0.5644\n",
            "Epoch: 283/500 - Loss: 0.5642\n",
            "Epoch: 284/500 - Loss: 0.5648\n",
            "Epoch: 285/500 - Loss: 0.5640\n",
            "Epoch: 286/500 - Loss: 0.5640\n",
            "Epoch: 287/500 - Loss: 0.5631\n",
            "Epoch: 288/500 - Loss: 0.5634\n",
            "Epoch: 289/500 - Loss: 0.5646\n",
            "Epoch: 290/500 - Loss: 0.5642\n",
            "Epoch: 291/500 - Loss: 0.5642\n",
            "Epoch: 292/500 - Loss: 0.5646\n",
            "Epoch: 293/500 - Loss: 0.5641\n",
            "Epoch: 294/500 - Loss: 0.5650\n",
            "Epoch: 295/500 - Loss: 0.5649\n",
            "Epoch: 296/500 - Loss: 0.5652\n",
            "Epoch: 297/500 - Loss: 0.5630\n",
            "Epoch: 298/500 - Loss: 0.5627\n",
            "Epoch: 299/500 - Loss: 0.5638\n",
            "Epoch: 300/500 - Loss: 0.5629\n",
            "Epoch: 301/500 - Loss: 0.5639\n",
            "Epoch: 302/500 - Loss: 0.5635\n",
            "Epoch: 303/500 - Loss: 0.5622\n",
            "Epoch: 304/500 - Loss: 0.5643\n",
            "Epoch: 305/500 - Loss: 0.5635\n",
            "Epoch: 306/500 - Loss: 0.5638\n",
            "Epoch: 307/500 - Loss: 0.5623\n",
            "Epoch: 308/500 - Loss: 0.5633\n",
            "Epoch: 309/500 - Loss: 0.5634\n",
            "Epoch: 310/500 - Loss: 0.5627\n",
            "Epoch: 311/500 - Loss: 0.5624\n",
            "Epoch: 312/500 - Loss: 0.5633\n",
            "Epoch: 313/500 - Loss: 0.5630\n",
            "Epoch: 314/500 - Loss: 0.5632\n",
            "Epoch: 315/500 - Loss: 0.5629\n",
            "Epoch: 316/500 - Loss: 0.5633\n",
            "Epoch: 317/500 - Loss: 0.5633\n",
            "Epoch: 318/500 - Loss: 0.5632\n",
            "Epoch: 319/500 - Loss: 0.5625\n",
            "Epoch: 320/500 - Loss: 0.5629\n",
            "Epoch: 321/500 - Loss: 0.5639\n",
            "Epoch: 322/500 - Loss: 0.5643\n",
            "Epoch: 323/500 - Loss: 0.5639\n",
            "Epoch: 324/500 - Loss: 0.5628\n",
            "Epoch: 325/500 - Loss: 0.5618\n",
            "Epoch: 326/500 - Loss: 0.5624\n",
            "Epoch: 327/500 - Loss: 0.5632\n",
            "Epoch: 328/500 - Loss: 0.5616\n",
            "Epoch: 329/500 - Loss: 0.5621\n",
            "Epoch: 330/500 - Loss: 0.5638\n",
            "Epoch: 331/500 - Loss: 0.5629\n",
            "Epoch: 332/500 - Loss: 0.5629\n",
            "Epoch: 333/500 - Loss: 0.5624\n",
            "Epoch: 334/500 - Loss: 0.5638\n",
            "Epoch: 335/500 - Loss: 0.5628\n",
            "Epoch: 336/500 - Loss: 0.5638\n",
            "Epoch: 337/500 - Loss: 0.5625\n",
            "Epoch: 338/500 - Loss: 0.5628\n",
            "Epoch: 339/500 - Loss: 0.5635\n",
            "Epoch: 340/500 - Loss: 0.5629\n",
            "Epoch: 341/500 - Loss: 0.5635\n",
            "Epoch: 342/500 - Loss: 0.5625\n",
            "Epoch: 343/500 - Loss: 0.5622\n",
            "Epoch: 344/500 - Loss: 0.5627\n",
            "Epoch: 345/500 - Loss: 0.5623\n",
            "Epoch: 346/500 - Loss: 0.5619\n",
            "Epoch: 347/500 - Loss: 0.5628\n",
            "Epoch: 348/500 - Loss: 0.5630\n",
            "Epoch: 349/500 - Loss: 0.5620\n",
            "Epoch: 350/500 - Loss: 0.5617\n",
            "Epoch: 351/500 - Loss: 0.5622\n",
            "Epoch: 352/500 - Loss: 0.5623\n",
            "Epoch: 353/500 - Loss: 0.5626\n",
            "Epoch: 354/500 - Loss: 0.5619\n",
            "Epoch: 355/500 - Loss: 0.5628\n",
            "Epoch: 356/500 - Loss: 0.5628\n",
            "Epoch: 357/500 - Loss: 0.5621\n",
            "Epoch: 358/500 - Loss: 0.5632\n",
            "Epoch: 359/500 - Loss: 0.5616\n",
            "Epoch: 360/500 - Loss: 0.5622\n",
            "Epoch: 361/500 - Loss: 0.5623\n",
            "Epoch: 362/500 - Loss: 0.5635\n",
            "Epoch: 363/500 - Loss: 0.5610\n",
            "Epoch: 364/500 - Loss: 0.5615\n",
            "Epoch: 365/500 - Loss: 0.5622\n",
            "Epoch: 366/500 - Loss: 0.5609\n",
            "Epoch: 367/500 - Loss: 0.5624\n",
            "Epoch: 368/500 - Loss: 0.5608\n",
            "Epoch: 369/500 - Loss: 0.5619\n",
            "Epoch: 370/500 - Loss: 0.5617\n",
            "Epoch: 371/500 - Loss: 0.5626\n",
            "Epoch: 372/500 - Loss: 0.5628\n",
            "Epoch: 373/500 - Loss: 0.5641\n",
            "Epoch: 374/500 - Loss: 0.5628\n",
            "Epoch: 375/500 - Loss: 0.5633\n",
            "Epoch: 376/500 - Loss: 0.5625\n",
            "Epoch: 377/500 - Loss: 0.5625\n",
            "Epoch: 378/500 - Loss: 0.5631\n",
            "Epoch: 379/500 - Loss: 0.5640\n",
            "Epoch: 380/500 - Loss: 0.5645\n",
            "Epoch: 381/500 - Loss: 0.5631\n",
            "Epoch: 382/500 - Loss: 0.5625\n",
            "Epoch: 383/500 - Loss: 0.5609\n",
            "Epoch: 384/500 - Loss: 0.5622\n",
            "Epoch: 385/500 - Loss: 0.5627\n",
            "Epoch: 386/500 - Loss: 0.5607\n",
            "Epoch: 387/500 - Loss: 0.5626\n",
            "Epoch: 388/500 - Loss: 0.5624\n",
            "Epoch: 389/500 - Loss: 0.5625\n",
            "Epoch: 390/500 - Loss: 0.5623\n",
            "Epoch: 391/500 - Loss: 0.5624\n",
            "Epoch: 392/500 - Loss: 0.5635\n",
            "Epoch: 393/500 - Loss: 0.5626\n",
            "Epoch: 394/500 - Loss: 0.5618\n",
            "Epoch: 395/500 - Loss: 0.5608\n",
            "Epoch: 396/500 - Loss: 0.5620\n",
            "Epoch: 397/500 - Loss: 0.5624\n",
            "Epoch: 398/500 - Loss: 0.5618\n",
            "Epoch: 399/500 - Loss: 0.5605\n",
            "Epoch: 400/500 - Loss: 0.5621\n",
            "Epoch: 401/500 - Loss: 0.5612\n",
            "Epoch: 402/500 - Loss: 0.5613\n",
            "Epoch: 403/500 - Loss: 0.5615\n",
            "Epoch: 404/500 - Loss: 0.5611\n",
            "Epoch: 405/500 - Loss: 0.5611\n",
            "Epoch: 406/500 - Loss: 0.5616\n",
            "Epoch: 407/500 - Loss: 0.5608\n",
            "Epoch: 408/500 - Loss: 0.5611\n",
            "Epoch: 409/500 - Loss: 0.5620\n",
            "Epoch: 410/500 - Loss: 0.5604\n",
            "Epoch: 411/500 - Loss: 0.5605\n",
            "Epoch: 412/500 - Loss: 0.5608\n",
            "Epoch: 413/500 - Loss: 0.5600\n",
            "Epoch: 414/500 - Loss: 0.5598\n",
            "Epoch: 415/500 - Loss: 0.5609\n",
            "Epoch: 416/500 - Loss: 0.5609\n",
            "Epoch: 417/500 - Loss: 0.5618\n",
            "Epoch: 418/500 - Loss: 0.5612\n",
            "Epoch: 419/500 - Loss: 0.5611\n",
            "Epoch: 420/500 - Loss: 0.5628\n",
            "Epoch: 421/500 - Loss: 0.5614\n",
            "Epoch: 422/500 - Loss: 0.5623\n",
            "Epoch: 423/500 - Loss: 0.5616\n",
            "Epoch: 424/500 - Loss: 0.5624\n",
            "Epoch: 425/500 - Loss: 0.5621\n",
            "Epoch: 426/500 - Loss: 0.5608\n",
            "Epoch: 427/500 - Loss: 0.5618\n",
            "Epoch: 428/500 - Loss: 0.5613\n",
            "Epoch: 429/500 - Loss: 0.5600\n",
            "Epoch: 430/500 - Loss: 0.5624\n",
            "Epoch: 431/500 - Loss: 0.5604\n",
            "Epoch: 432/500 - Loss: 0.5605\n",
            "Epoch: 433/500 - Loss: 0.5611\n",
            "Epoch: 434/500 - Loss: 0.5626\n",
            "Epoch: 435/500 - Loss: 0.5600\n",
            "Epoch: 436/500 - Loss: 0.5620\n",
            "Epoch: 437/500 - Loss: 0.5607\n",
            "Epoch: 438/500 - Loss: 0.5607\n",
            "Epoch: 439/500 - Loss: 0.5608\n",
            "Epoch: 440/500 - Loss: 0.5605\n",
            "Epoch: 441/500 - Loss: 0.5601\n",
            "Epoch: 442/500 - Loss: 0.5598\n",
            "Epoch: 443/500 - Loss: 0.5591\n",
            "Epoch: 444/500 - Loss: 0.5598\n",
            "Epoch: 445/500 - Loss: 0.5612\n",
            "Epoch: 446/500 - Loss: 0.5606\n",
            "Epoch: 447/500 - Loss: 0.5599\n",
            "Epoch: 448/500 - Loss: 0.5594\n",
            "Epoch: 449/500 - Loss: 0.5604\n",
            "Epoch: 450/500 - Loss: 0.5601\n",
            "Epoch: 451/500 - Loss: 0.5618\n",
            "Epoch: 452/500 - Loss: 0.5613\n",
            "Epoch: 453/500 - Loss: 0.5600\n",
            "Epoch: 454/500 - Loss: 0.5614\n",
            "Epoch: 455/500 - Loss: 0.5610\n",
            "Epoch: 456/500 - Loss: 0.5600\n",
            "Epoch: 457/500 - Loss: 0.5613\n",
            "Epoch: 458/500 - Loss: 0.5611\n",
            "Epoch: 459/500 - Loss: 0.5602\n",
            "Epoch: 460/500 - Loss: 0.5608\n",
            "Epoch: 461/500 - Loss: 0.5608\n",
            "Epoch: 462/500 - Loss: 0.5615\n",
            "Epoch: 463/500 - Loss: 0.5625\n",
            "Epoch: 464/500 - Loss: 0.5607\n",
            "Epoch: 465/500 - Loss: 0.5613\n",
            "Epoch: 466/500 - Loss: 0.5603\n",
            "Epoch: 467/500 - Loss: 0.5600\n",
            "Epoch: 468/500 - Loss: 0.5603\n",
            "Epoch: 469/500 - Loss: 0.5602\n",
            "Epoch: 470/500 - Loss: 0.5600\n",
            "Epoch: 471/500 - Loss: 0.5596\n",
            "Epoch: 472/500 - Loss: 0.5595\n",
            "Epoch: 473/500 - Loss: 0.5612\n",
            "Epoch: 474/500 - Loss: 0.5604\n",
            "Epoch: 475/500 - Loss: 0.5584\n",
            "Epoch: 476/500 - Loss: 0.5592\n",
            "Epoch: 477/500 - Loss: 0.5605\n",
            "Epoch: 478/500 - Loss: 0.5590\n",
            "Epoch: 479/500 - Loss: 0.5604\n",
            "Epoch: 480/500 - Loss: 0.5602\n",
            "Epoch: 481/500 - Loss: 0.5604\n",
            "Epoch: 482/500 - Loss: 0.5592\n",
            "Epoch: 483/500 - Loss: 0.5600\n",
            "Epoch: 484/500 - Loss: 0.5608\n",
            "Epoch: 485/500 - Loss: 0.5592\n",
            "Epoch: 486/500 - Loss: 0.5591\n",
            "Epoch: 487/500 - Loss: 0.5613\n",
            "Epoch: 488/500 - Loss: 0.5614\n",
            "Epoch: 489/500 - Loss: 0.5594\n",
            "Epoch: 490/500 - Loss: 0.5595\n",
            "Epoch: 491/500 - Loss: 0.5595\n",
            "Epoch: 492/500 - Loss: 0.5597\n",
            "Epoch: 493/500 - Loss: 0.5594\n",
            "Epoch: 494/500 - Loss: 0.5592\n",
            "Epoch: 495/500 - Loss: 0.5591\n",
            "Epoch: 496/500 - Loss: 0.5595\n",
            "Epoch: 497/500 - Loss: 0.5588\n",
            "Epoch: 498/500 - Loss: 0.5601\n",
            "Epoch: 499/500 - Loss: 0.5597\n",
            "Epoch: 500/500 - Loss: 0.5599\n",
            "\n"
          ],
          "name": "stdout"
        }
      ]
    },
    {
      "cell_type": "code",
      "metadata": {
        "id": "4IuqruQZBiaP",
        "colab_type": "code",
        "outputId": "b2ce8a57-6d3a-4c51-9722-26ef0a0d6810",
        "colab": {
          "base_uri": "https://localhost:8080/",
          "height": 281
        }
      },
      "source": [
        "plt.plot(hist)\n",
        "plt.title('Loss hist')\n",
        "plt.show()"
      ],
      "execution_count": 39,
      "outputs": [
        {
          "output_type": "display_data",
          "data": {
            "image/png": "[encoded data removed]",
            "text/plain": [
              "<Figure size 432x288 with 1 Axes>"
            ]
          },
          "metadata": {
            "tags": [],
            "needs_background": "light"
          }
        }
      ]
    },
    {
      "cell_type": "code",
      "metadata": {
        "id": "UzE0uh9H1SjO",
        "colab_type": "code",
        "outputId": "3df636f4-c6f0-46b1-e82e-90e00f565890",
        "colab": {
          "base_uri": "https://localhost:8080/",
          "height": 68
        }
      },
      "source": [
        "correct = 0\n",
        "total = 0\n",
        "model.eval()\n",
        "with torch.no_grad():\n",
        "    for data,labels in test_loader:\n",
        "        data = data.to(device)\n",
        "        labels = labels.to(device)\n",
        "        outputs = model(data)\n",
        "        _, predicted = torch.max(outputs.data, 1)\n",
        "        _, true_labels = torch.max(labels.data, 1)\n",
        "        total += labels.size(0)\n",
        "        correct += (predicted == true_labels).sum().item()\n",
        "print(correct)\n",
        "print(total)\n",
        "print('Accuracy of the network on the test data: %d %%' % (\n",
        "    100 * correct / total))"
      ],
      "execution_count": 40,
      "outputs": [
        {
          "output_type": "stream",
          "text": [
            "1295\n",
            "1475\n",
            "Accuracy of the network on the test data: 87 %\n"
          ],
          "name": "stdout"
        }
      ]
    },
    {
      "cell_type": "code",
      "metadata": {
        "id": "VEaGWC1sC7sV",
        "colab_type": "code",
        "colab": {}
      },
      "source": [
        "def load_test(df):\n",
        "  y = df[['Revenue_0','Revenue_1']].values\n",
        "  x = df.drop(['Revenue_0','Revenue_1'],axis = 1).values\n",
        "  return [np.array(x),np.array(y)]\n",
        "\n",
        "x_val, y_val = load_test(test_dum)\n",
        "\n",
        "x_val = torch.from_numpy(x_val).type(torch.Tensor)\n",
        "y_val = torch.from_numpy(y_val).type(torch.Tensor)\n",
        "val_ld = torch.utils.data.TensorDataset(x_val, y_val)\n",
        "val_loader = DataLoader(val_ld, batch_size=batch_size, shuffle=False)\n"
      ],
      "execution_count": 0,
      "outputs": []
    },
    {
      "cell_type": "code",
      "metadata": {
        "id": "eMagC4ND1qg6",
        "colab_type": "code",
        "colab": {
          "base_uri": "https://localhost:8080/",
          "height": 68
        },
        "outputId": "b256545a-d94a-49c1-ee11-46560990a935"
      },
      "source": [
        "correct = 0\n",
        "total = 0\n",
        "model.eval()\n",
        "with torch.no_grad():\n",
        "    for data,labels in val_loader:\n",
        "        data = data.to(device)\n",
        "        labels = labels.to(device)\n",
        "        outputs = model(data)\n",
        "        _, predicted = torch.max(outputs.data, 1)\n",
        "        _, true_labels = torch.max(labels.data, 1)\n",
        "        total += labels.size(0)\n",
        "        # print(predicted)\n",
        "        # print(true_labels)\n",
        "        # break\n",
        "\n",
        "        correct += (predicted == true_labels).sum().item()\n",
        "print(correct)\n",
        "print(total)\n",
        "print('Accuracy of the network on the test data: %d %%' % (\n",
        "    100 * correct / total))"
      ],
      "execution_count": 44,
      "outputs": [
        {
          "output_type": "stream",
          "text": [
            "1576\n",
            "1850\n",
            "Accuracy of the network on the test data: 85 %\n"
          ],
          "name": "stdout"
        }
      ]
    },
    {
      "cell_type": "code",
      "metadata": {
        "id": "2ZqquQviIlg0",
        "colab_type": "code",
        "colab": {}
      },
      "source": [
        "# torch.save(model.state_dict(), '/content/drive/My Drive/ML/FDA/HW3/3-2/shoping_test_acc_best')"
      ],
      "execution_count": 0,
      "outputs": []
    }
  ]
}